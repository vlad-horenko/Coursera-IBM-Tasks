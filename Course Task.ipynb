{
 "cells": [
  {
   "cell_type": "markdown",
   "id": "97625ddd",
   "metadata": {},
   "source": [
    "<h1>My Jupyter Notebook on IBM  Watson Studio</h1>"
   ]
  },
  {
   "cell_type": "markdown",
   "id": "9c413dac",
   "metadata": {},
   "source": [
    "<b>Vladyslav Horenko</b>\n",
    "<br>\n",
    "I am a student."
   ]
  },
  {
   "cell_type": "markdown",
   "id": "67dc1c9a",
   "metadata": {},
   "source": [
    "<i>I am interested in data science, so I want to make this world interesting and convenient for everyone.</i>"
   ]
  },
  {
   "cell_type": "markdown",
   "id": "f7ea6e51",
   "metadata": {},
   "source": [
    "<h3>My program searches for the distance between two points at the two specified coordinates</h3>"
   ]
  },
  {
   "cell_type": "code",
   "execution_count": 5,
   "id": "7f2ac34c",
   "metadata": {},
   "outputs": [
    {
     "data": {
      "text/plain": [
       "1.4142135623730951"
      ]
     },
     "execution_count": 5,
     "metadata": {},
     "output_type": "execute_result"
    }
   ],
   "source": [
    "import math\n",
    "def get_dist(x1, x2, y1, y2):\n",
    "    return math.sqrt((y1 - x1) ** 2 + (y2 - x2) ** 2)\n",
    "\n",
    "get_dist(12, 1, 13, 2)"
   ]
  },
  {
   "cell_type": "markdown",
   "id": "8af579a2",
   "metadata": {},
   "source": [
    "<ul>\n",
    "<li>KNN</li>\n",
    "<li>Linear Regression</li>\n",
    "<li>Logistic Regression</li>\n",
    "<li>SVM</li>\n",
    "<ul>\n",
    "<a href=\"https://www.coursera.org/\">Coursera</a>\n",
    "    \n",
    "| id | user | age | year|\n",
    "|----|------|-----|-----|\n",
    "| 1 | vlad_horenko | 17 | 2005 |\n",
    "| 2 | cool | 5 | 12 |\n",
    "| 3 | cameli | 29 | 1999 |"
   ]
  }
 ],
 "metadata": {
  "kernelspec": {
   "display_name": "Python 3 (ipykernel)",
   "language": "python",
   "name": "python3"
  },
  "language_info": {
   "codemirror_mode": {
    "name": "ipython",
    "version": 3
   },
   "file_extension": ".py",
   "mimetype": "text/x-python",
   "name": "python",
   "nbconvert_exporter": "python",
   "pygments_lexer": "ipython3",
   "version": "3.10.6"
  }
 },
 "nbformat": 4,
 "nbformat_minor": 5
}
